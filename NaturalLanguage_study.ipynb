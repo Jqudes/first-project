{
  "nbformat": 4,
  "nbformat_minor": 0,
  "metadata": {
    "colab": {
      "provenance": [],
      "authorship_tag": "ABX9TyNJxD1kr/5J/LVDeaIRqGG0",
      "include_colab_link": true
    },
    "kernelspec": {
      "name": "python3",
      "display_name": "Python 3"
    },
    "language_info": {
      "name": "python"
    },
    "accelerator": "GPU",
    "gpuClass": "standard"
  },
  "cells": [
    {
      "cell_type": "markdown",
      "metadata": {
        "id": "view-in-github",
        "colab_type": "text"
      },
      "source": [
        "<a href=\"https://colab.research.google.com/github/Jqudes/first-project/blob/master/NaturalLanguage_study.ipynb\" target=\"_parent\"><img src=\"https://colab.research.google.com/assets/colab-badge.svg\" alt=\"Open In Colab\"/></a>"
      ]
    },
    {
      "cell_type": "code",
      "execution_count": null,
      "metadata": {
        "colab": {
          "base_uri": "https://localhost:8080/"
        },
        "id": "zfEmto4KEKNu",
        "outputId": "9fde782b-eba7-42a6-e296-33a0d489de3d"
      },
      "outputs": [
        {
          "output_type": "stream",
          "name": "stdout",
          "text": [
            "\n",
            "원문:\n",
            " 해보지 않으면 해낼 수 없다\n",
            "\n",
            "토큰화:\n",
            " ['해보지', '않으면', '해낼', '수', '없다']\n"
          ]
        }
      ],
      "source": [
        "from tensorflow.keras.preprocessing.text import text_to_word_sequence\n",
        "\n",
        "#전처리할 텍스트를 정합니다.\n",
        "text = '해보지 않으면 해낼 수 없다'\n",
        "\n",
        "#해당 텍스트를 토큰화합니다.\n",
        "result = text_to_word_sequence(text)\n",
        "print(\"\\n원문:\\n\",text)\n",
        "print(\"\\n토큰화:\\n\", result)"
      ]
    },
    {
      "cell_type": "code",
      "source": [
        "from tensorflow.keras.preprocessing.text import Tokenizer\n",
        "from tensorflow.keras.preprocessing.sequence import pad_sequences\n",
        "from tensorflow.keras.models import Sequential\n",
        "from tensorflow.keras.layers import Dense, Flatten, Embedding\n",
        "from tensorflow.keras.utils import to_categorical\n",
        "\n",
        "from numpy import array\n",
        "\n",
        "#텍스트 리뷰 자료를 지정합니다.\n",
        "docs = [\"너무 재밌네요\",\"최고에요\",\"참 잘 만든 영화예요\", \"추천하고 싶은 영화입니다\", \"한번 더 보고싶네요\", \"글쎄요\",\"별로예요\",\"생각보다 지루하네요\",\"연기가 어색해요\",\"재미없어요\"]\n",
        "\n",
        "#긍정 리뷰는 1, 부정 리뷰는 0으로 클래스를 지정합니다.\n",
        "classes = array([1,1,1,1,1,0,0,0,0,0])\n",
        "\n",
        "#토큰화\n",
        "token = Tokenizer()\n",
        "token.fit_on_texts(docs)\n",
        "print(token.word_index)\n",
        "\n",
        "x = token.texts_to_sequences(docs)\n",
        "print(\"\\n리뷰 텍스트, 토큰화 결과:\\n\", x)\n",
        "\n",
        "#패딩, 서로 다른 길이의 데이터를 4로 맞추어 줍니다.\n",
        "padded_x = pad_sequences(x,4)\n",
        "print(\"\\n패딩 결과:\\n\", padded_x)\n",
        "\n",
        "#임베딩에 입력될 단어의 수를 지정합니다.\n",
        "word_size = len(token.word_index) +1\n",
        "\n",
        "#단어 임베딩을 포함해 딥러닝 모델을 만들고 결과를 출력합니다.\n",
        "model = Sequential()\n",
        "model.add(Embedding(word_size,8, input_length=4))\n",
        "model.add(Flatten())\n",
        "model.add(Dense(1, activation='sigmoid'))\n",
        "model.summary()\n",
        "\n",
        "model.compile(optimizer='adam', loss='binary_crossentropy',\n",
        "              metrics=['accuracy'])\n",
        "model.fit(padded_x, classes, epochs=20)\n",
        "print(\"\\n Accuracy: %.4f\" % (model.evaluate(padded_x, classes)[1]))"
      ],
      "metadata": {
        "colab": {
          "base_uri": "https://localhost:8080/"
        },
        "id": "eqx9G180Erfy",
        "outputId": "2a285985-a90c-4252-ba85-b4c6effab92b"
      },
      "execution_count": null,
      "outputs": [
        {
          "output_type": "stream",
          "name": "stdout",
          "text": [
            "{'너무': 1, '재밌네요': 2, '최고에요': 3, '참': 4, '잘': 5, '만든': 6, '영화예요': 7, '추천하고': 8, '싶은': 9, '영화입니다': 10, '한번': 11, '더': 12, '보고싶네요': 13, '글쎄요': 14, '별로예요': 15, '생각보다': 16, '지루하네요': 17, '연기가': 18, '어색해요': 19, '재미없어요': 20}\n",
            "\n",
            "리뷰 텍스트, 토큰화 결과:\n",
            " [[1, 2], [3], [4, 5, 6, 7], [8, 9, 10], [11, 12, 13], [14], [15], [16, 17], [18, 19], [20]]\n",
            "\n",
            "패딩 결과:\n",
            " [[ 0  0  1  2]\n",
            " [ 0  0  0  3]\n",
            " [ 4  5  6  7]\n",
            " [ 0  8  9 10]\n",
            " [ 0 11 12 13]\n",
            " [ 0  0  0 14]\n",
            " [ 0  0  0 15]\n",
            " [ 0  0 16 17]\n",
            " [ 0  0 18 19]\n",
            " [ 0  0  0 20]]\n",
            "Model: \"sequential_26\"\n",
            "_________________________________________________________________\n",
            " Layer (type)                Output Shape              Param #   \n",
            "=================================================================\n",
            " embedding_26 (Embedding)    (None, 4, 8)              168       \n",
            "                                                                 \n",
            " flatten_26 (Flatten)        (None, 32)                0         \n",
            "                                                                 \n",
            " dense_26 (Dense)            (None, 1)                 33        \n",
            "                                                                 \n",
            "=================================================================\n",
            "Total params: 201\n",
            "Trainable params: 201\n",
            "Non-trainable params: 0\n",
            "_________________________________________________________________\n",
            "Epoch 1/20\n",
            "1/1 [==============================] - 0s 440ms/step - loss: 0.6878 - accuracy: 0.8000\n",
            "Epoch 2/20\n",
            "1/1 [==============================] - 0s 8ms/step - loss: 0.6857 - accuracy: 0.9000\n",
            "Epoch 3/20\n",
            "1/1 [==============================] - 0s 8ms/step - loss: 0.6836 - accuracy: 0.9000\n",
            "Epoch 4/20\n",
            "1/1 [==============================] - 0s 7ms/step - loss: 0.6815 - accuracy: 0.9000\n",
            "Epoch 5/20\n",
            "1/1 [==============================] - 0s 7ms/step - loss: 0.6794 - accuracy: 0.9000\n",
            "Epoch 6/20\n",
            "1/1 [==============================] - 0s 8ms/step - loss: 0.6773 - accuracy: 0.9000\n",
            "Epoch 7/20\n",
            "1/1 [==============================] - 0s 8ms/step - loss: 0.6752 - accuracy: 0.9000\n",
            "Epoch 8/20\n",
            "1/1 [==============================] - 0s 8ms/step - loss: 0.6731 - accuracy: 0.9000\n",
            "Epoch 9/20\n",
            "1/1 [==============================] - 0s 8ms/step - loss: 0.6710 - accuracy: 0.9000\n",
            "Epoch 10/20\n",
            "1/1 [==============================] - 0s 7ms/step - loss: 0.6689 - accuracy: 0.9000\n",
            "Epoch 11/20\n",
            "1/1 [==============================] - 0s 8ms/step - loss: 0.6668 - accuracy: 0.9000\n",
            "Epoch 12/20\n",
            "1/1 [==============================] - 0s 12ms/step - loss: 0.6646 - accuracy: 0.9000\n",
            "Epoch 13/20\n",
            "1/1 [==============================] - 0s 8ms/step - loss: 0.6625 - accuracy: 0.9000\n",
            "Epoch 14/20\n",
            "1/1 [==============================] - 0s 10ms/step - loss: 0.6604 - accuracy: 0.9000\n",
            "Epoch 15/20\n",
            "1/1 [==============================] - 0s 8ms/step - loss: 0.6582 - accuracy: 0.9000\n",
            "Epoch 16/20\n",
            "1/1 [==============================] - 0s 7ms/step - loss: 0.6561 - accuracy: 0.9000\n",
            "Epoch 17/20\n",
            "1/1 [==============================] - 0s 7ms/step - loss: 0.6539 - accuracy: 0.9000\n",
            "Epoch 18/20\n",
            "1/1 [==============================] - 0s 8ms/step - loss: 0.6517 - accuracy: 0.9000\n",
            "Epoch 19/20\n",
            "1/1 [==============================] - 0s 8ms/step - loss: 0.6496 - accuracy: 0.9000\n",
            "Epoch 20/20\n",
            "1/1 [==============================] - 0s 11ms/step - loss: 0.6474 - accuracy: 0.9000\n",
            "1/1 [==============================] - 0s 107ms/step - loss: 0.6452 - accuracy: 0.9000\n",
            "\n",
            " Accuracy: 0.9000\n"
          ]
        }
      ]
    },
    {
      "cell_type": "code",
      "source": [
        "# LSTM을 이용해 로이터 뉴스 카테고리 분석하기\n",
        "\n",
        "from tensorflow.keras.models import Sequential\n",
        "from tensorflow.keras.layers import Dense, LSTM, Embedding\n",
        "from tensorflow.keras.utils import to_categorical\n",
        "from tensorflow.keras.preprocessing import sequence\n",
        "from tensorflow.keras.datasets import reuters\n",
        "from tensorflow.keras.callbacks import EarlyStopping\n",
        "\n",
        "import numpy as np\n",
        "import matplotlib.pyplot as plt\n",
        "\n",
        "#데이터를 불러와 학습셋, 테스트셋으로 나눕니다.\n",
        "(X_train, y_train), (X_test, y_test) = reuters.load_data(num_words=1000, test_split=0.2)\n",
        "\n",
        "#데이터를  확인해 보겠습니다.\n",
        "category = np.max(y_train)+1\n",
        "print(category, '카테고리')\n",
        "print(len(X_train),'학습용 뉴스 기사')\n",
        "print(len(X_test),'테스트용 뉴스 기사')\n",
        "print(X_train[0])\n",
        "\n",
        "#단어의 수를 맞추어 줍니다\n",
        "X_train = sequence.pad_sequences(X_train, maxlen=100)\n",
        "X_test = sequence.pad_sequences(X_test, maxlen=100)\n",
        "\n",
        "#원-핫 인코딩 처리를 합니다.\n",
        "y_train = to_categorical(y_train)\n",
        "y_test = to_categorical(y_test)\n",
        "\n",
        "#모델의 구조를 설정합니다.\n",
        "model = Sequential()\n",
        "model.add(Embedding(1000,100))\n",
        "model.add(LSTM(100, activation='tanh'))\n",
        "model.add(Dense(46, activation='softmax'))\n",
        "\n",
        "#모델의 실행 옵션을 정합니다\n",
        "model.compile(loss='categorical_crossentropy', optimizer='adam', metrics=['accuracy'])\n",
        "\n",
        "#합습의 조기 중단을 설정합니다.\n",
        "early_stopping_callback = EarlyStopping(monitor='val_loss', patience=5)\n",
        "\n",
        "#모델을 실행합니다.\n",
        "history = model.fit(X_train, y_train, batch_size=20, epochs=200,\n",
        "                    validation_data=(X_test,y_test), callbacks=[early_stopping_callback])\n",
        "\n",
        "#테스트 정확도를 출력합니다.\n",
        "print(\"\\n Test Accuracy: %.4f\" %(model.evaluate(X_test,y_test)[1]))\n",
        "\n",
        "#학습셋과 테스트셋의 오차를 저장합니다.\n",
        "y_vloss = history.history['val_loss']\n",
        "y_loss = history.history['loss']\n",
        "\n",
        "#그래프로 표현해 보겠습니다.\n",
        "x_len = np.arange(len(y_loss))\n",
        "plt.plot(x_len, y_vloss, marker='.', c=\"red\", label='Testset_loss')\n",
        "plt.plot(x_len, y_loss, marker='.', c=\"blue\", label='Trainset_loss')\n",
        "\n",
        "#그래프에 그리드를 주고 레이블을 표시하겠습니다.\n",
        "plt.legend(loc='upper right')\n",
        "plt.grid()\n",
        "plt.xlabel('epoch')\n",
        "plt.ylabel('loss')\n",
        "plt.show()"
      ],
      "metadata": {
        "colab": {
          "base_uri": "https://localhost:8080/",
          "height": 1000
        },
        "id": "2z03D-_NKAtC",
        "outputId": "12032d77-70c9-4f6b-966a-801e1cdc2f7b"
      },
      "execution_count": null,
      "outputs": [
        {
          "output_type": "stream",
          "name": "stdout",
          "text": [
            "46 카테고리\n",
            "8982 학습용 뉴스 기사\n",
            "2246 테스트용 뉴스 기사\n",
            "[1, 2, 2, 8, 43, 10, 447, 5, 25, 207, 270, 5, 2, 111, 16, 369, 186, 90, 67, 7, 89, 5, 19, 102, 6, 19, 124, 15, 90, 67, 84, 22, 482, 26, 7, 48, 4, 49, 8, 864, 39, 209, 154, 6, 151, 6, 83, 11, 15, 22, 155, 11, 15, 7, 48, 9, 2, 2, 504, 6, 258, 6, 272, 11, 15, 22, 134, 44, 11, 15, 16, 8, 197, 2, 90, 67, 52, 29, 209, 30, 32, 132, 6, 109, 15, 17, 12]\n",
            "Epoch 1/200\n",
            "450/450 [==============================] - 19s 38ms/step - loss: 2.2737 - accuracy: 0.4119 - val_loss: 1.9539 - val_accuracy: 0.4960\n",
            "Epoch 2/200\n",
            "450/450 [==============================] - 6s 13ms/step - loss: 1.8243 - accuracy: 0.5220 - val_loss: 1.7343 - val_accuracy: 0.5579\n",
            "Epoch 3/200\n",
            "450/450 [==============================] - 4s 10ms/step - loss: 1.6956 - accuracy: 0.5549 - val_loss: 1.6199 - val_accuracy: 0.5873\n",
            "Epoch 4/200\n",
            "450/450 [==============================] - 5s 10ms/step - loss: 1.4733 - accuracy: 0.6315 - val_loss: 1.4465 - val_accuracy: 0.6492\n",
            "Epoch 5/200\n",
            "450/450 [==============================] - 4s 9ms/step - loss: 1.2938 - accuracy: 0.6800 - val_loss: 1.3594 - val_accuracy: 0.6567\n",
            "Epoch 6/200\n",
            "450/450 [==============================] - 4s 9ms/step - loss: 1.1785 - accuracy: 0.7049 - val_loss: 1.2610 - val_accuracy: 0.6870\n",
            "Epoch 7/200\n",
            "450/450 [==============================] - 5s 10ms/step - loss: 1.0902 - accuracy: 0.7214 - val_loss: 1.2313 - val_accuracy: 0.6883\n",
            "Epoch 8/200\n",
            "450/450 [==============================] - 4s 8ms/step - loss: 1.0196 - accuracy: 0.7404 - val_loss: 1.1908 - val_accuracy: 0.6910\n",
            "Epoch 9/200\n",
            "450/450 [==============================] - 4s 8ms/step - loss: 0.9495 - accuracy: 0.7551 - val_loss: 1.1896 - val_accuracy: 0.6963\n",
            "Epoch 10/200\n",
            "450/450 [==============================] - 5s 11ms/step - loss: 0.8878 - accuracy: 0.7738 - val_loss: 1.1653 - val_accuracy: 0.7133\n",
            "Epoch 11/200\n",
            "450/450 [==============================] - 4s 9ms/step - loss: 0.8302 - accuracy: 0.7879 - val_loss: 1.1604 - val_accuracy: 0.7235\n",
            "Epoch 12/200\n",
            "450/450 [==============================] - 4s 8ms/step - loss: 0.7657 - accuracy: 0.8029 - val_loss: 1.1852 - val_accuracy: 0.7115\n",
            "Epoch 13/200\n",
            "450/450 [==============================] - 4s 10ms/step - loss: 0.7039 - accuracy: 0.8201 - val_loss: 1.1912 - val_accuracy: 0.7208\n",
            "Epoch 14/200\n",
            "450/450 [==============================] - 4s 8ms/step - loss: 0.6536 - accuracy: 0.8362 - val_loss: 1.2155 - val_accuracy: 0.7168\n",
            "Epoch 15/200\n",
            "450/450 [==============================] - 4s 8ms/step - loss: 0.5973 - accuracy: 0.8475 - val_loss: 1.2334 - val_accuracy: 0.7182\n",
            "Epoch 16/200\n",
            "450/450 [==============================] - 4s 9ms/step - loss: 0.5578 - accuracy: 0.8564 - val_loss: 1.2691 - val_accuracy: 0.7182\n",
            "71/71 [==============================] - 0s 4ms/step - loss: 1.2691 - accuracy: 0.7182\n",
            "\n",
            " Test Accuracy: 0.7182\n"
          ]
        },
        {
          "output_type": "display_data",
          "data": {
            "text/plain": [
              "<Figure size 432x288 with 1 Axes>"
            ],
            "image/png": "[encoded data removed]"
          },
          "metadata": {
            "needs_background": "light"
          }
        }
      ]
    }
  ]
}